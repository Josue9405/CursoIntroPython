{
 "cells": [
  {
   "cell_type": "markdown",
   "metadata": {},
   "source": [
    "# Ejercicio 1"
   ]
  },
  {
   "cell_type": "code",
   "execution_count": 10,
   "metadata": {},
   "outputs": [
    {
     "name": "stdout",
     "output_type": "stream",
     "text": [
      "Mercurio\n",
      "Venus\n",
      "Tierra\n",
      "Marte\n",
      "Júpiter\n",
      "Saturno\n",
      "Urano\n",
      "Neptuno\n",
      "\n",
      "Último elemento\n",
      "Pluton\n"
     ]
    }
   ],
   "source": [
    "planets = [\"Mercurio\", \"Venus\", \"Tierra\", \"Marte\", \"Júpiter\", \"Saturno\", \"Urano\", \"Neptuno\"]\n",
    "for planet in planets:\n",
    "    print(planet)\n",
    "planets.append(\"Pluton\")\n",
    "print(\"\\nÚltimo elemento\")\n",
    "print(planets[len(planets)-1])"
   ]
  },
  {
   "cell_type": "markdown",
   "metadata": {},
   "source": [
    "# Ejercicio 2"
   ]
  },
  {
   "cell_type": "code",
   "execution_count": 11,
   "metadata": {},
   "outputs": [
    {
     "ename": "ValueError",
     "evalue": "'jjnj' is not in list",
     "output_type": "error",
     "traceback": [
      "\u001b[1;31m---------------------------------------------------------------------------\u001b[0m",
      "\u001b[1;31mValueError\u001b[0m                                Traceback (most recent call last)",
      "\u001b[1;32mc:\\Users\\joshy\\Documents\\Desarrollo\\Launch X\\kata_6\\listas.ipynb Cell 4'\u001b[0m in \u001b[0;36m<module>\u001b[1;34m\u001b[0m\n\u001b[0;32m      <a href='vscode-notebook-cell:/c%3A/Users/joshy/Documents/Desarrollo/Launch%20X/kata_6/listas.ipynb#ch0000004?line=0'>1</a>\u001b[0m planets \u001b[39m=\u001b[39m [\u001b[39m'\u001b[39m\u001b[39mMercury\u001b[39m\u001b[39m'\u001b[39m, \u001b[39m'\u001b[39m\u001b[39mVenus\u001b[39m\u001b[39m'\u001b[39m, \u001b[39m'\u001b[39m\u001b[39mEarth\u001b[39m\u001b[39m'\u001b[39m, \u001b[39m'\u001b[39m\u001b[39mMars\u001b[39m\u001b[39m'\u001b[39m, \u001b[39m'\u001b[39m\u001b[39mJupiter\u001b[39m\u001b[39m'\u001b[39m, \u001b[39m'\u001b[39m\u001b[39mSaturn\u001b[39m\u001b[39m'\u001b[39m, \u001b[39m'\u001b[39m\u001b[39mNeptune\u001b[39m\u001b[39m'\u001b[39m]\n\u001b[0;32m      <a href='vscode-notebook-cell:/c%3A/Users/joshy/Documents/Desarrollo/Launch%20X/kata_6/listas.ipynb#ch0000004?line=1'>2</a>\u001b[0m userPlanet \u001b[39m=\u001b[39m \u001b[39minput\u001b[39m(\u001b[39m\"\u001b[39m\u001b[39mIngresa un planeta\u001b[39m\u001b[39m\"\u001b[39m)\n\u001b[1;32m----> <a href='vscode-notebook-cell:/c%3A/Users/joshy/Documents/Desarrollo/Launch%20X/kata_6/listas.ipynb#ch0000004?line=2'>3</a>\u001b[0m planetIndex \u001b[39m=\u001b[39m planets\u001b[39m.\u001b[39;49mindex(userPlanet)\n\u001b[0;32m      <a href='vscode-notebook-cell:/c%3A/Users/joshy/Documents/Desarrollo/Launch%20X/kata_6/listas.ipynb#ch0000004?line=3'>4</a>\u001b[0m \u001b[39mif\u001b[39;00m(planetIndex \u001b[39m>\u001b[39m \u001b[39m0\u001b[39m):\n\u001b[0;32m      <a href='vscode-notebook-cell:/c%3A/Users/joshy/Documents/Desarrollo/Launch%20X/kata_6/listas.ipynb#ch0000004?line=4'>5</a>\u001b[0m     \u001b[39mprint\u001b[39m(\u001b[39m\"\u001b[39m\u001b[39m{0}\u001b[39;00m\u001b[39m es el \u001b[39m\u001b[39m{1}\u001b[39;00m\u001b[39m planeta cerca del Sol\u001b[39m\u001b[39m\"\u001b[39m\u001b[39m.\u001b[39mformat(userPlanet,planetIndex\u001b[39m+\u001b[39m\u001b[39m1\u001b[39m))\n",
      "\u001b[1;31mValueError\u001b[0m: 'jjnj' is not in list"
     ]
    }
   ],
   "source": [
    "planets = ['Mercury', 'Venus', 'Earth', 'Mars', 'Jupiter', 'Saturn', 'Neptune']\n",
    "userPlanet = input(\"Ingresa un planeta\")\n",
    "planetIndex = planets.index(userPlanet)\n",
    "if(planetIndex > 0):\n",
    "    print(\"{0} es el {1} planeta cerca del Sol\".format(userPlanet,planetIndex+1))\n",
    "    planetsSlice = planets[0:planetIndex]\n",
    "    print(\"Planetas más cercanos del sol antes de {0}:\\n{1}\".format(userPlanet,planetsSlice))\n",
    "    planetsSlice = planets[planetIndex+1:len(planets)]\n",
    "    print(\"Planetas más alejados del sol después de {0}:\\n{1}\".format(userPlanet,planetsSlice))\n",
    "else:\n",
    "    print(\"No se encontró tu planeta\")"
   ]
  }
 ],
 "metadata": {
  "interpreter": {
   "hash": "d3cbfeceefc37f3c3930246578944829aab2eb24a533fdd29082fffcf1bb84c3"
  },
  "kernelspec": {
   "display_name": "Python 3.10.2 64-bit",
   "language": "python",
   "name": "python3"
  },
  "language_info": {
   "codemirror_mode": {
    "name": "ipython",
    "version": 3
   },
   "file_extension": ".py",
   "mimetype": "text/x-python",
   "name": "python",
   "nbconvert_exporter": "python",
   "pygments_lexer": "ipython3",
   "version": "3.10.2"
  },
  "orig_nbformat": 4
 },
 "nbformat": 4,
 "nbformat_minor": 2
}
