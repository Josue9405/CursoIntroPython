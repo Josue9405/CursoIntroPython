{
 "cells": [
  {
   "cell_type": "markdown",
   "metadata": {},
   "source": [
    "# Ejercicio 1"
   ]
  },
  {
   "cell_type": "code",
   "execution_count": 2,
   "metadata": {},
   "outputs": [
    {
     "name": "stdout",
     "output_type": "stream",
     "text": [
      "Datos del planeta: \n",
      "Nombre: marte\n",
      "Lunas: 2\n",
      "Datos del planeta: \n",
      "Nombre: marte\n",
      "Circunferencia porlar: 6752\n"
     ]
    }
   ],
   "source": [
    "planet = {\n",
    "    'name' : 'marte',\n",
    "    \"moons\" : 2\n",
    "}\n",
    "print(\"Datos del planeta: \")\n",
    "print(\"\"\"Nombre: {0}\n",
    "Lunas: {1}\"\"\".format(planet['name'],planet['moons']))\n",
    "\n",
    "circunferencia = {\n",
    "    'polar' : 6752,\n",
    "    'equatorial' : 6792\n",
    "}\n",
    "\n",
    "planet['circunferencia (km)'] = circunferencia\n",
    "print(\"\"\"Datos del planeta: \n",
    "Nombre: {0}\n",
    "Circunferencia porlar: {1}\"\"\".format(planet['name'],planet['circunferencia (km)']['polar']))\n"
   ]
  },
  {
   "cell_type": "markdown",
   "metadata": {},
   "source": [
    "# Ejercicio 2"
   ]
  },
  {
   "cell_type": "code",
   "execution_count": 5,
   "metadata": {},
   "outputs": [
    {
     "name": "stdout",
     "output_type": "stream",
     "text": [
      "Promedio de lunas en el sistema: 17.833333333333332\n"
     ]
    }
   ],
   "source": [
    "planet_moons = {\n",
    "    'mercury': 0,\n",
    "    'venus': 0,\n",
    "    'earth': 1,\n",
    "    'mars': 2,\n",
    "    'jupiter': 79,\n",
    "    'saturn': 82,\n",
    "    'uranus': 27,\n",
    "    'neptune': 14,\n",
    "    'pluto': 5,\n",
    "    'haumea': 2,\n",
    "    'makemake': 1,\n",
    "    'eris': 1\n",
    "}\n",
    "\n",
    "planets = len(planet_moons.keys())\n",
    "moons = planet_moons.values()\n",
    "total_moons = 0\n",
    "for moon in moons:\n",
    "    total_moons = total_moons + moon\n",
    "\n",
    "prom = total_moons/planets\n",
    "print(\"Promedio de lunas en el sistema: {0}\".format(prom))"
   ]
  }
 ],
 "metadata": {
  "interpreter": {
   "hash": "4080b767a7ef9f8b8fe66ef911f64fcf4fe949c79ca8f8a19f23183e0fd5d2a8"
  },
  "kernelspec": {
   "display_name": "Python 3.10.2 64-bit (windows store)",
   "language": "python",
   "name": "python3"
  },
  "language_info": {
   "codemirror_mode": {
    "name": "ipython",
    "version": 3
   },
   "file_extension": ".py",
   "mimetype": "text/x-python",
   "name": "python",
   "nbconvert_exporter": "python",
   "pygments_lexer": "ipython3",
   "version": "3.10.2"
  },
  "orig_nbformat": 4
 },
 "nbformat": 4,
 "nbformat_minor": 2
}
