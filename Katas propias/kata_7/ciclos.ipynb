{
 "cells": [
  {
   "cell_type": "markdown",
   "metadata": {},
   "source": [
    "# Ejercicio 1"
   ]
  },
  {
   "cell_type": "code",
   "execution_count": null,
   "metadata": {},
   "outputs": [],
   "source": [
    "new_planet = input(\"Ingresa un planeta: \")\n",
    "planets = []\n",
    "while (new_planet.lower() != 'done'):\n",
    "    if len(new_planet) > 0:\n",
    "        planets.append(new_planet)\n",
    "    print(planets)\n",
    "    new_planet = input(\"Ingresa otro planeta: \")\n",
    "\n"
   ]
  },
  {
   "cell_type": "markdown",
   "metadata": {},
   "source": [
    "# Ejercicio 2"
   ]
  },
  {
   "cell_type": "code",
   "execution_count": 4,
   "metadata": {},
   "outputs": [
    {
     "name": "stdout",
     "output_type": "stream",
     "text": [
      "halo\n",
      "tierra\n",
      "marte\n",
      "saturno\n",
      "jupiter\n",
      "urano\n",
      "pluton\n"
     ]
    }
   ],
   "source": [
    "new_planet = input(\"Ingresa un planeta: \")\n",
    "planets = []\n",
    "while (new_planet.lower() != 'done'):\n",
    "    if len(new_planet) > 0:\n",
    "        planets.append(new_planet)\n",
    "    new_planet = input(\"Ingresa otro planeta: \")\n",
    "\n",
    "for planet in planets:\n",
    "    print(planet)"
   ]
  }
 ],
 "metadata": {
  "interpreter": {
   "hash": "d3cbfeceefc37f3c3930246578944829aab2eb24a533fdd29082fffcf1bb84c3"
  },
  "kernelspec": {
   "display_name": "Python 3.10.2 64-bit",
   "language": "python",
   "name": "python3"
  },
  "language_info": {
   "codemirror_mode": {
    "name": "ipython",
    "version": 3
   },
   "file_extension": ".py",
   "mimetype": "text/x-python",
   "name": "python",
   "nbconvert_exporter": "python",
   "pygments_lexer": "ipython3",
   "version": "3.10.2"
  },
  "orig_nbformat": 4
 },
 "nbformat": 4,
 "nbformat_minor": 2
}
