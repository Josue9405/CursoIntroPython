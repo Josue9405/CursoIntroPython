{
 "cells": [
  {
   "cell_type": "markdown",
   "metadata": {},
   "source": [
    "# Ejericio 1"
   ]
  },
  {
   "cell_type": "code",
   "execution_count": 5,
   "metadata": {},
   "outputs": [
    {
     "name": "stdout",
     "output_type": "stream",
     "text": [
      "628949330\n",
      "390577533\n"
     ]
    }
   ],
   "source": [
    "tierra = \"149.597.870\"\n",
    "tierraInt = int(tierra.replace(\".\",\"\"))\n",
    "jupiter = \"778.547.200\"\n",
    "jupiterInt = int(jupiter.replace(\".\",\"\"))\n",
    "print(jupiterInt-tierraInt)\n",
    "print(int((jupiterInt-tierraInt)*0.621))"
   ]
  },
  {
   "cell_type": "markdown",
   "metadata": {},
   "source": [
    "# Ejercicio 2"
   ]
  },
  {
   "cell_type": "code",
   "execution_count": 6,
   "metadata": {},
   "outputs": [
    {
     "name": "stdout",
     "output_type": "stream",
     "text": [
      "Distancia: 6477393616405\n",
      "Distancia millas: 4022461435787.505\n"
     ]
    }
   ],
   "source": [
    "planetaUno = int(input(\"Distancia del primer planeta\"))\n",
    "planetaDos = int(input(\"Distancia del segundo planeta\"))\n",
    "distancia = abs(planetaUno-planetaDos)\n",
    "print(\"Distancia entre planetas: {0}\".format(distancia))\n",
    "print(\"Distancia entre planetas en millas: {0}\".format(distancia*0.621))"
   ]
  }
 ],
 "metadata": {
  "interpreter": {
   "hash": "d3cbfeceefc37f3c3930246578944829aab2eb24a533fdd29082fffcf1bb84c3"
  },
  "kernelspec": {
   "display_name": "Python 3.10.2 64-bit",
   "language": "python",
   "name": "python3"
  },
  "language_info": {
   "codemirror_mode": {
    "name": "ipython",
    "version": 3
   },
   "file_extension": ".py",
   "mimetype": "text/x-python",
   "name": "python",
   "nbconvert_exporter": "python",
   "pygments_lexer": "ipython3",
   "version": "3.10.2"
  },
  "orig_nbformat": 4
 },
 "nbformat": 4,
 "nbformat_minor": 2
}
