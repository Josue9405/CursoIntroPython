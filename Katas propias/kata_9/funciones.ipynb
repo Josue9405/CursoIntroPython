{
 "cells": [
  {
   "cell_type": "markdown",
   "metadata": {},
   "source": [
    "# Ejercicio 1"
   ]
  },
  {
   "cell_type": "code",
   "execution_count": 4,
   "metadata": {},
   "outputs": [
    {
     "name": "stdout",
     "output_type": "stream",
     "text": [
      "El promerdio de los tanques es: 10.0\n"
     ]
    }
   ],
   "source": [
    "def promedio(lista):\n",
    "    totalElementos = len(lista)\n",
    "    sumaTotal = 0\n",
    "    for elemento in lista:\n",
    "        sumaTotal = sumaTotal + elemento\n",
    "    return sumaTotal/totalElementos\n",
    "\n",
    "def combustible(tanque1, tanque2, tanque3):\n",
    "    lista = [tanque1, tanque2, tanque3]\n",
    "    return promedio(lista)\n",
    "\n",
    "\n",
    "print(\"El promerdio de los tanques es: {0}\".format(combustible(10, 10, 10)))"
   ]
  },
  {
   "cell_type": "markdown",
   "metadata": {},
   "source": [
    "# Ejercicio 2"
   ]
  },
  {
   "cell_type": "code",
   "execution_count": 6,
   "metadata": {},
   "outputs": [
    {
     "name": "stdout",
     "output_type": "stream",
     "text": [
      "Mision a: 20\n",
      "Total de vuelo: 10 minutos\n",
      "Total de combustible: Marte litros\n",
      " \n",
      "Mision a: Luna\n",
      "Total de vuelo : 74\n",
      "Total de combustible: 500000\n",
      " El tanque principal contiene 300000 litros\n",
      " El tanque externo contiene 200000 litros\n"
     ]
    }
   ],
   "source": [
    "def reporteMision(horaPreLanzamiento, tiempoVuelo, destino, tanqueExt, tanqueInt):\n",
    "    return \"\"\"Mision a: {0}\n",
    "Total de vuelo: {1} minutos\n",
    "Total de combustible: {2} litros\"\"\".format(horaPreLanzamiento,tiempoVuelo,destino,tanqueExt,tanqueInt)\n",
    "\n",
    "print(reporteMision(20, 10, \"Marte\", 20000, 5000))\n",
    "\n",
    "print(\" \")\n",
    "\n",
    "def reporteMisionMej(destino, *minutos, **tanquesCombustible):\n",
    "    reporte = \"\"\"Mision a: {0}\n",
    "Total de vuelo : {1}\n",
    "Total de combustible: {2}\"\"\".format(destino, sum(minutos),sum(tanquesCombustible.values()))\n",
    "    for nombreTanque, litros in tanquesCombustible.items():\n",
    "        reporte += \"\\n El tanque {0} contiene {1} litros\".format(nombreTanque, litros) \n",
    "    return reporte\n",
    "\n",
    "print(reporteMisionMej(\"Luna\", 8, 11, 55, principal=300000, externo=200000))"
   ]
  }
 ],
 "metadata": {
  "interpreter": {
   "hash": "d3cbfeceefc37f3c3930246578944829aab2eb24a533fdd29082fffcf1bb84c3"
  },
  "kernelspec": {
   "display_name": "Python 3.10.2 64-bit",
   "language": "python",
   "name": "python3"
  },
  "language_info": {
   "codemirror_mode": {
    "name": "ipython",
    "version": 3
   },
   "file_extension": ".py",
   "mimetype": "text/x-python",
   "name": "python",
   "nbconvert_exporter": "python",
   "pygments_lexer": "ipython3",
   "version": "3.10.2"
  },
  "orig_nbformat": 4
 },
 "nbformat": 4,
 "nbformat_minor": 2
}
